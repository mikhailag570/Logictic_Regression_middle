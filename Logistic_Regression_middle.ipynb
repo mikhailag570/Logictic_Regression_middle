{
 "cells": [
  {
   "cell_type": "code",
   "execution_count": null,
   "id": "a8f6bb27",
   "metadata": {},
   "outputs": [],
   "source": [
    "'''\n",
    "Логистическая регрессия\n",
    "'''"
   ]
  },
  {
   "cell_type": "code",
   "execution_count": 1,
   "id": "7196a910",
   "metadata": {},
   "outputs": [],
   "source": [
    "import numpy as np\n",
    "import pandas as pd\n",
    "import matplotlib\n",
    "import matplotlib.pyplot as plt\n",
    "import scipy.stats as stats\n",
    "\n",
    "%matplotlib inline"
   ]
  },
  {
   "cell_type": "code",
   "execution_count": null,
   "id": "d88869e0",
   "metadata": {},
   "outputs": [],
   "source": [
    "# Построим сигмоиду"
   ]
  },
  {
   "cell_type": "code",
   "execution_count": 2,
   "id": "f2d434d5",
   "metadata": {},
   "outputs": [
    {
     "data": {
      "image/png": "[encoded data removed]",
      "text/plain": [
       "<Figure size 900x900 with 1 Axes>"
      ]
     },
     "metadata": {},
     "output_type": "display_data"
    }
   ],
   "source": [
    "plt.figure(figsize=(9,9))\n",
    "\n",
    "def sigmoid(t): \n",
    "    return (1/(1 + np.e**(-t)))    \n",
    "\n",
    "plot_range = np.arange(-6, 6, 0.1)       \n",
    "\n",
    "y_values = sigmoid(plot_range)\n",
    "\n",
    "# Plot curve\n",
    "plt.plot(plot_range, \n",
    "         y_values,  \n",
    "         color=\"red\");"
   ]
  },
  {
   "cell_type": "code",
   "execution_count": null,
   "id": "f2e26f96",
   "metadata": {},
   "outputs": [],
   "source": []
  },
  {
   "cell_type": "code",
   "execution_count": 3,
   "id": "0ca02e4e",
   "metadata": {},
   "outputs": [],
   "source": [
    "titanic_train = pd.read_csv(\"train.csv\")\n",
    "\n",
    "char_cabin = titanic_train[\"Cabin\"].astype(str) \n",
    "\n",
    "new_Cabin = np.array([cabin[0] for cabin in char_cabin])\n",
    "\n",
    "titanic_train[\"Cabin\"] = pd.Categorical(new_Cabin)\n",
    "\n",
    "# Вводим медианный возраст для пассажиров с пропущенным значением\n",
    "new_age_var = np.where(titanic_train[\"Age\"].isnull(), # Проверка\n",
    "                       28,                       # Если проверка верна\n",
    "                       titanic_train[\"Age\"])     # Если нет\n",
    "\n",
    "titanic_train[\"Age\"] = new_age_var \n",
    "\n",
    "new_fare_var = np.where(titanic_train[\"Fare\"].isnull(), # Проверяем стоимость\n",
    "                       50,                         # Если верна\n",
    "                       titanic_train[\"Fare\"])     # Если нет\n",
    "\n",
    "titanic_train[\"Fare\"] = new_fare_var "
   ]
  },
  {
   "cell_type": "code",
   "execution_count": 4,
   "id": "340ff60f",
   "metadata": {},
   "outputs": [],
   "source": [
    "from sklearn import linear_model\n",
    "from sklearn import preprocessing"
   ]
  },
  {
   "cell_type": "code",
   "execution_count": 5,
   "id": "faa893cd",
   "metadata": {},
   "outputs": [
    {
     "name": "stdout",
     "output_type": "stream",
     "text": [
      "[1.01628767]\n",
      "[[-2.44597988]]\n"
     ]
    }
   ],
   "source": [
    "# Запускаем Label Encoder\n",
    "label_encoder = preprocessing.LabelEncoder()\n",
    "\n",
    "# Переменную пол в числовую (0/1)\n",
    "encoded_sex = label_encoder.fit_transform(titanic_train[\"Sex\"])\n",
    "\n",
    "# Инициализируем модель  логистической регрессии\n",
    "log_model = linear_model.LogisticRegression(solver = 'lbfgs')\n",
    "\n",
    "# Тренируем модель\n",
    "log_model.fit(X = pd.DataFrame(encoded_sex), \n",
    "              y = titanic_train[\"Survived\"])\n",
    "\n",
    "# Проверяем интерцепт\n",
    "print(log_model.intercept_)\n",
    "\n",
    "# И коэфициенты\n",
    "print(log_model.coef_)"
   ]
  },
  {
   "cell_type": "code",
   "execution_count": 6,
   "id": "f08ee5ce",
   "metadata": {},
   "outputs": [
    {
     "data": {
      "text/html": [
       "<div>\n",
       "<style scoped>\n",
       "    .dataframe tbody tr th:only-of-type {\n",
       "        vertical-align: middle;\n",
       "    }\n",
       "\n",
       "    .dataframe tbody tr th {\n",
       "        vertical-align: top;\n",
       "    }\n",
       "\n",
       "    .dataframe thead th {\n",
       "        text-align: right;\n",
       "    }\n",
       "</style>\n",
       "<table border=\"1\" class=\"dataframe\">\n",
       "  <thead>\n",
       "    <tr style=\"text-align: right;\">\n",
       "      <th>Survival_prob</th>\n",
       "      <th>0.193147</th>\n",
       "      <th>0.734249</th>\n",
       "    </tr>\n",
       "    <tr>\n",
       "      <th>Sex</th>\n",
       "      <th></th>\n",
       "      <th></th>\n",
       "    </tr>\n",
       "  </thead>\n",
       "  <tbody>\n",
       "    <tr>\n",
       "      <th>female</th>\n",
       "      <td>0</td>\n",
       "      <td>314</td>\n",
       "    </tr>\n",
       "    <tr>\n",
       "      <th>male</th>\n",
       "      <td>577</td>\n",
       "      <td>0</td>\n",
       "    </tr>\n",
       "  </tbody>\n",
       "</table>\n",
       "</div>"
      ],
      "text/plain": [
       "Survival_prob  0.193147  0.734249\n",
       "Sex                              \n",
       "female                0       314\n",
       "male                577         0"
      ]
     },
     "execution_count": 6,
     "metadata": {},
     "output_type": "execute_result"
    }
   ],
   "source": [
    "# Предсказания. )\n",
    "preds = log_model.predict_proba(X= pd.DataFrame(encoded_sex))\n",
    "preds = pd.DataFrame(preds)\n",
    "preds.columns = [\"Death_prob\", \"Survival_prob\"]\n",
    "\n",
    "# Создадим таблицу спасенных по полу\n",
    "pd.crosstab(titanic_train[\"Sex\"], preds.loc[:, \"Survival_prob\"])"
   ]
  },
  {
   "cell_type": "code",
   "execution_count": null,
   "id": "7e86d256",
   "metadata": {},
   "outputs": [],
   "source": [
    "'''\n",
    "Предварительно, 19.3% мужчин и 73.4% женщин спаслись.\n",
    "Теперь усложним модель.\n",
    "'''"
   ]
  },
  {
   "cell_type": "code",
   "execution_count": 7,
   "id": "acbb0907",
   "metadata": {},
   "outputs": [
    {
     "name": "stdout",
     "output_type": "stream",
     "text": [
      "[3.85818122]\n",
      "[[-0.93272694 -0.09865307 -2.51826528 -0.03339524]]\n"
     ]
    }
   ],
   "source": [
    "# Больше переменных преобразуем в числовые\n",
    "encoded_class = label_encoder.fit_transform(titanic_train[\"Pclass\"])\n",
    "encoded_cabin = label_encoder.fit_transform(titanic_train[\"Cabin\"])\n",
    "\n",
    "train_features = pd.DataFrame([encoded_class,\n",
    "                              encoded_cabin,\n",
    "                              encoded_sex,\n",
    "                              titanic_train[\"Age\"]]).T\n",
    "\n",
    "log_model = linear_model.LogisticRegression(solver = 'lbfgs')\n",
    "\n",
    "# Обучим модель\n",
    "log_model.fit(X = train_features ,\n",
    "              y = titanic_train[\"Survived\"])\n",
    "\n",
    "print(log_model.intercept_)\n",
    "\n",
    "print(log_model.coef_)"
   ]
  },
  {
   "cell_type": "code",
   "execution_count": 8,
   "id": "a85d9ae9",
   "metadata": {},
   "outputs": [
    {
     "data": {
      "text/html": [
       "<div>\n",
       "<style scoped>\n",
       "    .dataframe tbody tr th:only-of-type {\n",
       "        vertical-align: middle;\n",
       "    }\n",
       "\n",
       "    .dataframe tbody tr th {\n",
       "        vertical-align: top;\n",
       "    }\n",
       "\n",
       "    .dataframe thead th {\n",
       "        text-align: right;\n",
       "    }\n",
       "</style>\n",
       "<table border=\"1\" class=\"dataframe\">\n",
       "  <thead>\n",
       "    <tr style=\"text-align: right;\">\n",
       "      <th>Survived</th>\n",
       "      <th>0</th>\n",
       "      <th>1</th>\n",
       "    </tr>\n",
       "    <tr>\n",
       "      <th>row_0</th>\n",
       "      <th></th>\n",
       "      <th></th>\n",
       "    </tr>\n",
       "  </thead>\n",
       "  <tbody>\n",
       "    <tr>\n",
       "      <th>0</th>\n",
       "      <td>458</td>\n",
       "      <td>89</td>\n",
       "    </tr>\n",
       "    <tr>\n",
       "      <th>1</th>\n",
       "      <td>91</td>\n",
       "      <td>253</td>\n",
       "    </tr>\n",
       "  </tbody>\n",
       "</table>\n",
       "</div>"
      ],
      "text/plain": [
       "Survived    0    1\n",
       "row_0             \n",
       "0         458   89\n",
       "1          91  253"
      ]
     },
     "execution_count": 8,
     "metadata": {},
     "output_type": "execute_result"
    }
   ],
   "source": [
    "# Создадим предикторы\n",
    "preds = log_model.predict(X= train_features)\n",
    "\n",
    "# Таблица прогнозов и актуальных данных\n",
    "pd.crosstab(preds,titanic_train[\"Survived\"])"
   ]
  },
  {
   "cell_type": "code",
   "execution_count": null,
   "id": "ec84a0f6",
   "metadata": {},
   "outputs": [],
   "source": [
    "'''\n",
    "В нижней левой ячейке указаны ложные срабатывания: люди, для которых модель предсказала выживание, \n",
    "но на самом деле не выжили. \n",
    "В верхней левой ячейке указаны истинные отрицательные результаты: \n",
    "люди правильно идентифицированы как выжившие. \n",
    "Наконец, верхняя правая ячейка показывает ложноотрицательные результаты: \n",
    "пассажиры, которых модель определила как выживших, но на самом деле выжили.\n",
    "'''"
   ]
  },
  {
   "cell_type": "code",
   "execution_count": 9,
   "id": "60c9894d",
   "metadata": {},
   "outputs": [
    {
     "data": {
      "text/plain": [
       "0.797979797979798"
      ]
     },
     "execution_count": 9,
     "metadata": {},
     "output_type": "execute_result"
    }
   ],
   "source": [
    "log_model.score(X = train_features ,\n",
    "                y = titanic_train[\"Survived\"])"
   ]
  },
  {
   "cell_type": "code",
   "execution_count": 10,
   "id": "ec02ae62",
   "metadata": {},
   "outputs": [
    {
     "data": {
      "text/plain": [
       "array([[458,  91],\n",
       "       [ 89, 253]], dtype=int64)"
      ]
     },
     "execution_count": 10,
     "metadata": {},
     "output_type": "execute_result"
    }
   ],
   "source": [
    "from sklearn import metrics\n",
    "\n",
    "# Построим матрицу запутанности\n",
    "metrics.confusion_matrix(y_true=titanic_train[\"Survived\"],\n",
    "                         y_pred=preds)"
   ]
  },
  {
   "cell_type": "code",
   "execution_count": 12,
   "id": "fdaaa42c",
   "metadata": {},
   "outputs": [
    {
     "name": "stdout",
     "output_type": "stream",
     "text": [
      "              precision    recall  f1-score   support\n",
      "\n",
      "           0       0.84      0.83      0.84       549\n",
      "           1       0.74      0.74      0.74       342\n",
      "\n",
      "    accuracy                           0.80       891\n",
      "   macro avg       0.79      0.79      0.79       891\n",
      "weighted avg       0.80      0.80      0.80       891\n",
      "\n"
     ]
    }
   ],
   "source": [
    "# Общие показатели классrics\n",
    "print(metrics.classification_report(y_true=titanic_train[\"Survived\"],\n",
    "                                    y_pred=preds))"
   ]
  },
  {
   "cell_type": "code",
   "execution_count": 14,
   "id": "6adaf02e",
   "metadata": {},
   "outputs": [],
   "source": [
    "# Загрузим тестовые данные\n",
    "titanic_test = pd.read_csv(\"test.csv\") \n",
    "\n",
    "char_cabin = titanic_test[\"Cabin\"].astype(str)\n",
    "\n",
    "new_Cabin = np.array([cabin[0] for cabin in char_cabin]) \n",
    "\n",
    "titanic_test[\"Cabin\"] = pd.Categorical(new_Cabin) \n",
    "\n",
    "new_age_var = np.where(titanic_test[\"Age\"].isnull(), \n",
    "                       28,                       \n",
    "                       titanic_test[\"Age\"])   \n",
    "\n",
    "titanic_test[\"Age\"] = new_age_var \n",
    "\n",
    "encoded_sex = label_encoder.fit_transform(titanic_test[\"Sex\"])\n",
    "encoded_class = label_encoder.fit_transform(titanic_test[\"Pclass\"])\n",
    "encoded_cabin = label_encoder.fit_transform(titanic_test[\"Cabin\"])\n",
    "\n",
    "test_features = pd.DataFrame([encoded_class,\n",
    "                              encoded_cabin,\n",
    "                              encoded_sex,\n",
    "                              titanic_test[\"Age\"]]).T"
   ]
  },
  {
   "cell_type": "code",
   "execution_count": 15,
   "id": "0cc5d112",
   "metadata": {},
   "outputs": [],
   "source": [
    "# Тестовый прогноз\n",
    "test_preds = log_model.predict(X=test_features)\n",
    "\n",
    "submission = pd.DataFrame({\"PassengerId\":titanic_test[\"PassengerId\"],\n",
    "                           \"Survived\":test_preds})\n",
    "# Сохраним в csv\n",
    "submission.to_csv(\"tutorial_logreg_submission.csv\", \n",
    "                  index=False)       "
   ]
  },
  {
   "cell_type": "code",
   "execution_count": null,
   "id": "4dc3e377",
   "metadata": {},
   "outputs": [],
   "source": [
    "'''\n",
    "Точность регрессии стала ниже - 0,74162.\n",
    "Введение дополнительных переменных не привело к повышению точности модели.\n",
    "Датасет сохранен отдельно.\n",
    "'''"
   ]
  }
 ],
 "metadata": {
  "kernelspec": {
   "display_name": "Python 3 (ipykernel)",
   "language": "python",
   "name": "python3"
  },
  "language_info": {
   "codemirror_mode": {
    "name": "ipython",
    "version": 3
   },
   "file_extension": ".py",
   "mimetype": "text/x-python",
   "name": "python",
   "nbconvert_exporter": "python",
   "pygments_lexer": "ipython3",
   "version": "3.9.13"
  }
 },
 "nbformat": 4,
 "nbformat_minor": 5
}
